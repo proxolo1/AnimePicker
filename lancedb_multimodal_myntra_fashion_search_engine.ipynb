{
  "nbformat": 4,
  "nbformat_minor": 0,
  "metadata": {
    "colab": {
      "provenance": [],
      "include_colab_link": true
    },
    "kernelspec": {
      "name": "python3",
      "display_name": "Python 3"
    },
    "language_info": {
      "name": "python"
    },
    "widgets": {
      "application/vnd.jupyter.widget-state+json": {
        "06d19cad9e7c480ca7f4bbd993f8e21b": {
          "model_module": "@jupyter-widgets/controls",
          "model_name": "HBoxModel",
          "model_module_version": "1.5.0",
          "state": {
            "_dom_classes": [],
            "_model_module": "@jupyter-widgets/controls",
            "_model_module_version": "1.5.0",
            "_model_name": "HBoxModel",
            "_view_count": null,
            "_view_module": "@jupyter-widgets/controls",
            "_view_module_version": "1.5.0",
            "_view_name": "HBoxView",
            "box_style": "",
            "children": [
              "IPY_MODEL_df8b08d31e354765a3b4f12af92599fe",
              "IPY_MODEL_3583f526954947c38f666fa2741c15fb",
              "IPY_MODEL_21346560a1f84b35b716c610952f207b"
            ],
            "layout": "IPY_MODEL_b11bdb07f03a4103828dfc2cb8769333"
          }
        },
        "df8b08d31e354765a3b4f12af92599fe": {
          "model_module": "@jupyter-widgets/controls",
          "model_name": "HTMLModel",
          "model_module_version": "1.5.0",
          "state": {
            "_dom_classes": [],
            "_model_module": "@jupyter-widgets/controls",
            "_model_module_version": "1.5.0",
            "_model_name": "HTMLModel",
            "_view_count": null,
            "_view_module": "@jupyter-widgets/controls",
            "_view_module_version": "1.5.0",
            "_view_name": "HTMLView",
            "description": "",
            "description_tooltip": null,
            "layout": "IPY_MODEL_8bcb7f74c3564a63a07110c6c6b37937",
            "placeholder": "​",
            "style": "IPY_MODEL_22b68c03f8664b288ba7fdf71f6a4325",
            "value": "open_clip_pytorch_model.bin: 100%"
          }
        },
        "3583f526954947c38f666fa2741c15fb": {
          "model_module": "@jupyter-widgets/controls",
          "model_name": "FloatProgressModel",
          "model_module_version": "1.5.0",
          "state": {
            "_dom_classes": [],
            "_model_module": "@jupyter-widgets/controls",
            "_model_module_version": "1.5.0",
            "_model_name": "FloatProgressModel",
            "_view_count": null,
            "_view_module": "@jupyter-widgets/controls",
            "_view_module_version": "1.5.0",
            "_view_name": "ProgressView",
            "bar_style": "success",
            "description": "",
            "description_tooltip": null,
            "layout": "IPY_MODEL_3b4d81956c154a0e8bc9c23bf9b8be1f",
            "max": 605219813,
            "min": 0,
            "orientation": "horizontal",
            "style": "IPY_MODEL_84ed36cdb1c34a0fae0b50f1dca6cf94",
            "value": 605219813
          }
        },
        "21346560a1f84b35b716c610952f207b": {
          "model_module": "@jupyter-widgets/controls",
          "model_name": "HTMLModel",
          "model_module_version": "1.5.0",
          "state": {
            "_dom_classes": [],
            "_model_module": "@jupyter-widgets/controls",
            "_model_module_version": "1.5.0",
            "_model_name": "HTMLModel",
            "_view_count": null,
            "_view_module": "@jupyter-widgets/controls",
            "_view_module_version": "1.5.0",
            "_view_name": "HTMLView",
            "description": "",
            "description_tooltip": null,
            "layout": "IPY_MODEL_da810c72451b47079fb37a13294898ae",
            "placeholder": "​",
            "style": "IPY_MODEL_94fad1c4eb77463bb538b1b26b207d10",
            "value": " 605M/605M [00:03&lt;00:00, 181MB/s]"
          }
        },
        "b11bdb07f03a4103828dfc2cb8769333": {
          "model_module": "@jupyter-widgets/base",
          "model_name": "LayoutModel",
          "model_module_version": "1.2.0",
          "state": {
            "_model_module": "@jupyter-widgets/base",
            "_model_module_version": "1.2.0",
            "_model_name": "LayoutModel",
            "_view_count": null,
            "_view_module": "@jupyter-widgets/base",
            "_view_module_version": "1.2.0",
            "_view_name": "LayoutView",
            "align_content": null,
            "align_items": null,
            "align_self": null,
            "border": null,
            "bottom": null,
            "display": null,
            "flex": null,
            "flex_flow": null,
            "grid_area": null,
            "grid_auto_columns": null,
            "grid_auto_flow": null,
            "grid_auto_rows": null,
            "grid_column": null,
            "grid_gap": null,
            "grid_row": null,
            "grid_template_areas": null,
            "grid_template_columns": null,
            "grid_template_rows": null,
            "height": null,
            "justify_content": null,
            "justify_items": null,
            "left": null,
            "margin": null,
            "max_height": null,
            "max_width": null,
            "min_height": null,
            "min_width": null,
            "object_fit": null,
            "object_position": null,
            "order": null,
            "overflow": null,
            "overflow_x": null,
            "overflow_y": null,
            "padding": null,
            "right": null,
            "top": null,
            "visibility": null,
            "width": null
          }
        },
        "8bcb7f74c3564a63a07110c6c6b37937": {
          "model_module": "@jupyter-widgets/base",
          "model_name": "LayoutModel",
          "model_module_version": "1.2.0",
          "state": {
            "_model_module": "@jupyter-widgets/base",
            "_model_module_version": "1.2.0",
            "_model_name": "LayoutModel",
            "_view_count": null,
            "_view_module": "@jupyter-widgets/base",
            "_view_module_version": "1.2.0",
            "_view_name": "LayoutView",
            "align_content": null,
            "align_items": null,
            "align_self": null,
            "border": null,
            "bottom": null,
            "display": null,
            "flex": null,
            "flex_flow": null,
            "grid_area": null,
            "grid_auto_columns": null,
            "grid_auto_flow": null,
            "grid_auto_rows": null,
            "grid_column": null,
            "grid_gap": null,
            "grid_row": null,
            "grid_template_areas": null,
            "grid_template_columns": null,
            "grid_template_rows": null,
            "height": null,
            "justify_content": null,
            "justify_items": null,
            "left": null,
            "margin": null,
            "max_height": null,
            "max_width": null,
            "min_height": null,
            "min_width": null,
            "object_fit": null,
            "object_position": null,
            "order": null,
            "overflow": null,
            "overflow_x": null,
            "overflow_y": null,
            "padding": null,
            "right": null,
            "top": null,
            "visibility": null,
            "width": null
          }
        },
        "22b68c03f8664b288ba7fdf71f6a4325": {
          "model_module": "@jupyter-widgets/controls",
          "model_name": "DescriptionStyleModel",
          "model_module_version": "1.5.0",
          "state": {
            "_model_module": "@jupyter-widgets/controls",
            "_model_module_version": "1.5.0",
            "_model_name": "DescriptionStyleModel",
            "_view_count": null,
            "_view_module": "@jupyter-widgets/base",
            "_view_module_version": "1.2.0",
            "_view_name": "StyleView",
            "description_width": ""
          }
        },
        "3b4d81956c154a0e8bc9c23bf9b8be1f": {
          "model_module": "@jupyter-widgets/base",
          "model_name": "LayoutModel",
          "model_module_version": "1.2.0",
          "state": {
            "_model_module": "@jupyter-widgets/base",
            "_model_module_version": "1.2.0",
            "_model_name": "LayoutModel",
            "_view_count": null,
            "_view_module": "@jupyter-widgets/base",
            "_view_module_version": "1.2.0",
            "_view_name": "LayoutView",
            "align_content": null,
            "align_items": null,
            "align_self": null,
            "border": null,
            "bottom": null,
            "display": null,
            "flex": null,
            "flex_flow": null,
            "grid_area": null,
            "grid_auto_columns": null,
            "grid_auto_flow": null,
            "grid_auto_rows": null,
            "grid_column": null,
            "grid_gap": null,
            "grid_row": null,
            "grid_template_areas": null,
            "grid_template_columns": null,
            "grid_template_rows": null,
            "height": null,
            "justify_content": null,
            "justify_items": null,
            "left": null,
            "margin": null,
            "max_height": null,
            "max_width": null,
            "min_height": null,
            "min_width": null,
            "object_fit": null,
            "object_position": null,
            "order": null,
            "overflow": null,
            "overflow_x": null,
            "overflow_y": null,
            "padding": null,
            "right": null,
            "top": null,
            "visibility": null,
            "width": null
          }
        },
        "84ed36cdb1c34a0fae0b50f1dca6cf94": {
          "model_module": "@jupyter-widgets/controls",
          "model_name": "ProgressStyleModel",
          "model_module_version": "1.5.0",
          "state": {
            "_model_module": "@jupyter-widgets/controls",
            "_model_module_version": "1.5.0",
            "_model_name": "ProgressStyleModel",
            "_view_count": null,
            "_view_module": "@jupyter-widgets/base",
            "_view_module_version": "1.2.0",
            "_view_name": "StyleView",
            "bar_color": null,
            "description_width": ""
          }
        },
        "da810c72451b47079fb37a13294898ae": {
          "model_module": "@jupyter-widgets/base",
          "model_name": "LayoutModel",
          "model_module_version": "1.2.0",
          "state": {
            "_model_module": "@jupyter-widgets/base",
            "_model_module_version": "1.2.0",
            "_model_name": "LayoutModel",
            "_view_count": null,
            "_view_module": "@jupyter-widgets/base",
            "_view_module_version": "1.2.0",
            "_view_name": "LayoutView",
            "align_content": null,
            "align_items": null,
            "align_self": null,
            "border": null,
            "bottom": null,
            "display": null,
            "flex": null,
            "flex_flow": null,
            "grid_area": null,
            "grid_auto_columns": null,
            "grid_auto_flow": null,
            "grid_auto_rows": null,
            "grid_column": null,
            "grid_gap": null,
            "grid_row": null,
            "grid_template_areas": null,
            "grid_template_columns": null,
            "grid_template_rows": null,
            "height": null,
            "justify_content": null,
            "justify_items": null,
            "left": null,
            "margin": null,
            "max_height": null,
            "max_width": null,
            "min_height": null,
            "min_width": null,
            "object_fit": null,
            "object_position": null,
            "order": null,
            "overflow": null,
            "overflow_x": null,
            "overflow_y": null,
            "padding": null,
            "right": null,
            "top": null,
            "visibility": null,
            "width": null
          }
        },
        "94fad1c4eb77463bb538b1b26b207d10": {
          "model_module": "@jupyter-widgets/controls",
          "model_name": "DescriptionStyleModel",
          "model_module_version": "1.5.0",
          "state": {
            "_model_module": "@jupyter-widgets/controls",
            "_model_module_version": "1.5.0",
            "_model_name": "DescriptionStyleModel",
            "_view_count": null,
            "_view_module": "@jupyter-widgets/base",
            "_view_module_version": "1.2.0",
            "_view_name": "StyleView",
            "description_width": ""
          }
        }
      }
    }
  },
  "cells": [
    {
      "cell_type": "markdown",
      "metadata": {
        "id": "view-in-github",
        "colab_type": "text"
      },
      "source": [
        "<a href=\"https://colab.research.google.com/github/proxolo1/AnimePicker/blob/master/lancedb_multimodal_myntra_fashion_search_engine.ipynb\" target=\"_parent\"><img src=\"https://colab.research.google.com/assets/colab-badge.svg\" alt=\"Open In Colab\"/></a>"
      ]
    },
    {
      "cell_type": "markdown",
      "source": [
        "# LanceDB Multimodal Myntra Fashion Search Engine"
      ],
      "metadata": {
        "id": "xgydN0D4TtBF"
      }
    },
    {
      "cell_type": "markdown",
      "source": [
        "## Preliminaries"
      ],
      "metadata": {
        "id": "BUElYQzKT41t"
      }
    },
    {
      "cell_type": "code",
      "source": [
        "%%capture\n",
        "\n",
        "!pip install lancedb\n",
        "!pip install open_clip_torch"
      ],
      "metadata": {
        "id": "PQj_jlbRUteu"
      },
      "execution_count": 1,
      "outputs": []
    },
    {
      "cell_type": "code",
      "source": [
        "import os\n",
        "import argparse\n",
        "import pandas as pd\n",
        "from PIL import Image\n",
        "from pathlib import Path\n",
        "from random import sample\n",
        "\n",
        "import lancedb\n",
        "from lancedb.pydantic import LanceModel, Vector\n",
        "from lancedb.embeddings import EmbeddingFunctionRegistry\n",
        "\n",
        "from typing import Any"
      ],
      "metadata": {
        "id": "uddRx_vxT6_t"
      },
      "execution_count": 2,
      "outputs": []
    },
    {
      "cell_type": "markdown",
      "source": [
        "## Download Data\n",
        "- For this project you need to download the [Myntra Fashion Product Dataset]( https://www.kaggle.com/datasets/hiteshsuthar101/myntra-fashion-product-dataset) from Kaggle and store it here in the `input` folder.\n",
        "- Note that while creating the table you shall pass the path of the folder in which the images are present, example `/content/input/images`"
      ],
      "metadata": {
        "id": "GEtZ52fYZNz0"
      }
    },
    {
      "cell_type": "markdown",
      "source": [
        "## Embedding Model"
      ],
      "metadata": {
        "id": "JZafdZy-TiJa"
      }
    },
    {
      "cell_type": "code",
      "source": [
        "def register_model(model_name: str) -> Any:\n",
        "    \"\"\"\n",
        "    Register a model with the given name using LanceDB's EmbeddingFunctionRegistry.\n",
        "\n",
        "    Args:\n",
        "        model_name (str): The name of the model to register.\n",
        "\n",
        "    Returns:\n",
        "        model: The registered model instance.\n",
        "\n",
        "    Usage:\n",
        "    >>> model = register_model(\"open-clip\")\n",
        "    \"\"\"\n",
        "    registry = EmbeddingFunctionRegistry.get_instance()\n",
        "    model = registry.get(model_name).create()\n",
        "    return model"
      ],
      "metadata": {
        "id": "14TJFhtxTczp"
      },
      "execution_count": 3,
      "outputs": []
    },
    {
      "cell_type": "markdown",
      "source": [
        "## Schema"
      ],
      "metadata": {
        "id": "l2bJC-3CTd36"
      }
    },
    {
      "cell_type": "code",
      "execution_count": 4,
      "metadata": {
        "id": "5upIYuE5TJ13",
        "colab": {
          "base_uri": "https://localhost:8080/",
          "height": 173,
          "referenced_widgets": [
            "06d19cad9e7c480ca7f4bbd993f8e21b",
            "df8b08d31e354765a3b4f12af92599fe",
            "3583f526954947c38f666fa2741c15fb",
            "21346560a1f84b35b716c610952f207b",
            "b11bdb07f03a4103828dfc2cb8769333",
            "8bcb7f74c3564a63a07110c6c6b37937",
            "22b68c03f8664b288ba7fdf71f6a4325",
            "3b4d81956c154a0e8bc9c23bf9b8be1f",
            "84ed36cdb1c34a0fae0b50f1dca6cf94",
            "da810c72451b47079fb37a13294898ae",
            "94fad1c4eb77463bb538b1b26b207d10"
          ]
        },
        "outputId": "740e4dbd-80e9-42a7-fbc6-e560dd27418a"
      },
      "outputs": [
        {
          "output_type": "stream",
          "name": "stderr",
          "text": [
            "/usr/local/lib/python3.10/dist-packages/huggingface_hub/utils/_token.py:89: UserWarning: \n",
            "The secret `HF_TOKEN` does not exist in your Colab secrets.\n",
            "To authenticate with the Hugging Face Hub, create a token in your settings tab (https://huggingface.co/settings/tokens), set it as secret in your Google Colab and restart your session.\n",
            "You will be able to reuse this secret in all of your notebooks.\n",
            "Please note that authentication is recommended but still optional to access public models or datasets.\n",
            "  warnings.warn(\n"
          ]
        },
        {
          "output_type": "display_data",
          "data": {
            "text/plain": [
              "open_clip_pytorch_model.bin:   0%|          | 0.00/605M [00:00<?, ?B/s]"
            ],
            "application/vnd.jupyter.widget-view+json": {
              "version_major": 2,
              "version_minor": 0,
              "model_id": "06d19cad9e7c480ca7f4bbd993f8e21b"
            }
          },
          "metadata": {}
        }
      ],
      "source": [
        "# Register the OpenAI CLIP model\n",
        "clip = register_model(\"open-clip\")\n",
        "\n",
        "\n",
        "class Myntra(LanceModel):\n",
        "    \"\"\"\n",
        "    Represents a Myntra Schema.\n",
        "\n",
        "    Attributes:\n",
        "        vector (Vector): The vector representation of the item.\n",
        "        image_uri (str): The URI of the item's image.\n",
        "    \"\"\"\n",
        "\n",
        "    vector: Vector(clip.ndims()) = clip.VectorField()\n",
        "    image_uri: str = clip.SourceField()\n",
        "\n",
        "    @property\n",
        "    def image(self):\n",
        "        return Image.open(self.image_uri)\n",
        "\n",
        "\n",
        "# Function to map schema name to schema class\n",
        "def get_schema_by_name(schema_name: str) -> Any:\n",
        "    \"\"\"\n",
        "    Retrieves the schema object based on the given schema name.\n",
        "\n",
        "    Args:\n",
        "        schema_name (str): The name of the schema.\n",
        "\n",
        "    Returns:\n",
        "        object: The schema object corresponding to the given schema name, or None if not found.\n",
        "\n",
        "    Usage:\n",
        "    >>> schema = get_schema_by_name(\"Myntra\")\n",
        "    \"\"\"\n",
        "    schema_map = {\n",
        "        \"Myntra\": Myntra,\n",
        "    }\n",
        "    return schema_map.get(schema_name)"
      ]
    },
    {
      "cell_type": "markdown",
      "source": [
        "## Creating a Table"
      ],
      "metadata": {
        "id": "dy3LohCmTlW3"
      }
    },
    {
      "cell_type": "code",
      "source": [
        "def create_table(\n",
        "    database: str,\n",
        "    table_name: str,\n",
        "    data_path: str,\n",
        "    schema: Any = Myntra,\n",
        "    mode: str = \"overwrite\",\n",
        ") -> None:\n",
        "    \"\"\"\n",
        "    Create a table in the specified vector database and add data to it.\n",
        "\n",
        "    Args:\n",
        "        database (str): The name of the database to connect to.\n",
        "        table_name (str): The name of the table to create.\n",
        "        data_path (str): The path to the data directory.\n",
        "        schema (Schema, optional): The schema to use for the table. Defaults to Myntra.\n",
        "        mode (str, optional): The mode for creating the table. Defaults to \"overwrite\".\n",
        "\n",
        "    Returns:\n",
        "        None\n",
        "\n",
        "    Usage:\n",
        "    >>> create_table(database=\"~/.lancedb\"\", table_name=\"myntra\", data_path=\"input\")\n",
        "    \"\"\"\n",
        "\n",
        "    # Connect to the lancedb database\n",
        "    db = lancedb.connect(database)\n",
        "\n",
        "    # Check if the table already exists in the database\n",
        "    if table_name in db:\n",
        "        print(f\"Table {table_name} already exists in the database\")\n",
        "        table = db[table_name]\n",
        "\n",
        "    # if it does not exist then create a new table\n",
        "    else:\n",
        "\n",
        "        print(f\"Creating table {table_name} in the database\")\n",
        "\n",
        "        # Create the table with the given schema\n",
        "        table = db.create_table(table_name, schema=schema, mode=mode)\n",
        "\n",
        "        # Define the Path of the images and obtain the Image uri\n",
        "        p = Path(data_path).expanduser()\n",
        "        uris = [str(f) for f in p.glob(\"*.jpg\")]\n",
        "        print(f\"Found {len(uris)} images in {p}\")\n",
        "\n",
        "        # Sample 1000 images from the data\n",
        "        # Increase this value for more accurate results but\n",
        "        # it will take more time to process embeddings\n",
        "        uris = sample(uris, 100)\n",
        "\n",
        "        # Add the data to the table\n",
        "        print(f\"Adding {len(uris)} images to the table\")\n",
        "        table.add(pd.DataFrame({\"image_uri\": uris}))\n",
        "        print(f\"Added {len(uris)} images to the table\")"
      ],
      "metadata": {
        "id": "uDhRy1uTTnY-"
      },
      "execution_count": 5,
      "outputs": []
    },
    {
      "cell_type": "code",
      "source": [
        "# The data_path should refer to the folder in which the images are located\n",
        "\n",
        "create_table(database=\"~/.lancedb\", table_name=\"myntra\", data_path=\"/content/input/images\")"
      ],
      "metadata": {
        "id": "FP5uK1rcP38K",
        "colab": {
          "base_uri": "https://localhost:8080/",
          "height": 616
        },
        "outputId": "a8789973-52b8-4f1f-fa53-fa8989337b69"
      },
      "execution_count": 6,
      "outputs": [
        {
          "output_type": "stream",
          "name": "stdout",
          "text": [
            "Creating table myntra in the database\n",
            "Found 0 images in /content/input/images\n"
          ]
        },
        {
          "output_type": "error",
          "ename": "ValueError",
          "evalue": "Sample larger than population or is negative",
          "traceback": [
            "\u001b[0;31m---------------------------------------------------------------------------\u001b[0m",
            "\u001b[0;31mValueError\u001b[0m                                Traceback (most recent call last)",
            "\u001b[0;32m<ipython-input-6-692406853564>\u001b[0m in \u001b[0;36m<cell line: 3>\u001b[0;34m()\u001b[0m\n\u001b[1;32m      1\u001b[0m \u001b[0;31m# The data_path should refer to the folder in which the images are located\u001b[0m\u001b[0;34m\u001b[0m\u001b[0;34m\u001b[0m\u001b[0m\n\u001b[1;32m      2\u001b[0m \u001b[0;34m\u001b[0m\u001b[0m\n\u001b[0;32m----> 3\u001b[0;31m \u001b[0mcreate_table\u001b[0m\u001b[0;34m(\u001b[0m\u001b[0mdatabase\u001b[0m\u001b[0;34m=\u001b[0m\u001b[0;34m\"~/.lancedb\"\u001b[0m\u001b[0;34m,\u001b[0m \u001b[0mtable_name\u001b[0m\u001b[0;34m=\u001b[0m\u001b[0;34m\"myntra\"\u001b[0m\u001b[0;34m,\u001b[0m \u001b[0mdata_path\u001b[0m\u001b[0;34m=\u001b[0m\u001b[0;34m\"/content/input/images\"\u001b[0m\u001b[0;34m)\u001b[0m\u001b[0;34m\u001b[0m\u001b[0;34m\u001b[0m\u001b[0m\n\u001b[0m",
            "\u001b[0;32m<ipython-input-5-1cbfd2bc6b4b>\u001b[0m in \u001b[0;36mcreate_table\u001b[0;34m(database, table_name, data_path, schema, mode)\u001b[0m\n\u001b[1;32m     47\u001b[0m         \u001b[0;31m# Increase this value for more accurate results but\u001b[0m\u001b[0;34m\u001b[0m\u001b[0;34m\u001b[0m\u001b[0m\n\u001b[1;32m     48\u001b[0m         \u001b[0;31m# it will take more time to process embeddings\u001b[0m\u001b[0;34m\u001b[0m\u001b[0;34m\u001b[0m\u001b[0m\n\u001b[0;32m---> 49\u001b[0;31m         \u001b[0muris\u001b[0m \u001b[0;34m=\u001b[0m \u001b[0msample\u001b[0m\u001b[0;34m(\u001b[0m\u001b[0muris\u001b[0m\u001b[0;34m,\u001b[0m \u001b[0;36m100\u001b[0m\u001b[0;34m)\u001b[0m\u001b[0;34m\u001b[0m\u001b[0;34m\u001b[0m\u001b[0m\n\u001b[0m\u001b[1;32m     50\u001b[0m \u001b[0;34m\u001b[0m\u001b[0m\n\u001b[1;32m     51\u001b[0m         \u001b[0;31m# Add the data to the table\u001b[0m\u001b[0;34m\u001b[0m\u001b[0;34m\u001b[0m\u001b[0m\n",
            "\u001b[0;32m/usr/lib/python3.10/random.py\u001b[0m in \u001b[0;36msample\u001b[0;34m(self, population, k, counts)\u001b[0m\n\u001b[1;32m    480\u001b[0m         \u001b[0mrandbelow\u001b[0m \u001b[0;34m=\u001b[0m \u001b[0mself\u001b[0m\u001b[0;34m.\u001b[0m\u001b[0m_randbelow\u001b[0m\u001b[0;34m\u001b[0m\u001b[0;34m\u001b[0m\u001b[0m\n\u001b[1;32m    481\u001b[0m         \u001b[0;32mif\u001b[0m \u001b[0;32mnot\u001b[0m \u001b[0;36m0\u001b[0m \u001b[0;34m<=\u001b[0m \u001b[0mk\u001b[0m \u001b[0;34m<=\u001b[0m \u001b[0mn\u001b[0m\u001b[0;34m:\u001b[0m\u001b[0;34m\u001b[0m\u001b[0;34m\u001b[0m\u001b[0m\n\u001b[0;32m--> 482\u001b[0;31m             \u001b[0;32mraise\u001b[0m \u001b[0mValueError\u001b[0m\u001b[0;34m(\u001b[0m\u001b[0;34m\"Sample larger than population or is negative\"\u001b[0m\u001b[0;34m)\u001b[0m\u001b[0;34m\u001b[0m\u001b[0;34m\u001b[0m\u001b[0m\n\u001b[0m\u001b[1;32m    483\u001b[0m         \u001b[0mresult\u001b[0m \u001b[0;34m=\u001b[0m \u001b[0;34m[\u001b[0m\u001b[0;32mNone\u001b[0m\u001b[0;34m]\u001b[0m \u001b[0;34m*\u001b[0m \u001b[0mk\u001b[0m\u001b[0;34m\u001b[0m\u001b[0;34m\u001b[0m\u001b[0m\n\u001b[1;32m    484\u001b[0m         \u001b[0msetsize\u001b[0m \u001b[0;34m=\u001b[0m \u001b[0;36m21\u001b[0m        \u001b[0;31m# size of a small set minus size of an empty list\u001b[0m\u001b[0;34m\u001b[0m\u001b[0;34m\u001b[0m\u001b[0m\n",
            "\u001b[0;31mValueError\u001b[0m: Sample larger than population or is negative"
          ]
        }
      ]
    },
    {
      "cell_type": "markdown",
      "source": [
        "## Vector Search"
      ],
      "metadata": {
        "id": "3vAWovRJTqhv"
      }
    },
    {
      "cell_type": "code",
      "source": [
        "def run_vector_search(\n",
        "    database: str,\n",
        "    table_name: str,\n",
        "    schema: Any,\n",
        "    search_query: Any,\n",
        "    limit: int = 6,\n",
        "    output_folder: str = \"output\",\n",
        ") -> None:\n",
        "    \"\"\"\n",
        "    This function performs a vector search on the specified database and table using the provided search query.\n",
        "    The search can be performed on either text or image data. The function retrieves the top 'limit' number of results\n",
        "    and saves the corresponding images in the 'output_folder' directory. The function assumes if the search query ends\n",
        "    with '.jpg' or '.png', it is an image search, otherwise it is a text search.\n",
        "    Args:\n",
        "        database (str): The path to the database.\n",
        "        table_name (str): The name of the table.\n",
        "        schema (Schema): The schema to use for converting search results to Pydantic models.\n",
        "        search_query (Any): The search query, can be text or image.\n",
        "        limit (int, optional): The maximum number of results to return. Defaults to 6.\n",
        "        output_folder (str, optional): The folder to save the output images. Defaults to \"output\".\n",
        "\n",
        "    Returns:\n",
        "        None\n",
        "\n",
        "    Usage:\n",
        "    >>> run_vector_search(database=\"~/.lancedb\", table_name=\"myntra\", schema=Myntra, search_query=\"Black Kurta\")\n",
        "\n",
        "    \"\"\"\n",
        "\n",
        "    # Create the output folder if it does not exist\n",
        "    if os.path.exists(output_folder):\n",
        "        for file in os.listdir(output_folder):\n",
        "            os.remove(os.path.join(output_folder, file))\n",
        "    else:\n",
        "        os.makedirs(output_folder)\n",
        "\n",
        "    # Connect to the lancedb database\n",
        "    db = lancedb.connect(database)\n",
        "\n",
        "    # Open the table\n",
        "    table = db.open_table(table_name)\n",
        "\n",
        "    # Check if the search query is an image or text\n",
        "    try:\n",
        "        if search_query.endswith(\".jpg\") or search_query.endswith(\".png\"):\n",
        "            search_query = Image.open(search_query)\n",
        "        else:\n",
        "            search_query = search_query\n",
        "    except AttributeError as e:\n",
        "        if str(e) == \"'JpegImageFile' object has no attribute 'endswith'\":\n",
        "            print(\"Running via Streamlit, search query is already an array so skipping opening image using Pillow\")\n",
        "        else:\n",
        "            raise\n",
        "\n",
        "    # Perform the vector search and retrieve the results\n",
        "    rs = table.search(search_query).limit(limit).to_pydantic(schema)\n",
        "\n",
        "    # Save the images to the output folder\n",
        "    for i in range(limit):\n",
        "        image_path = os.path.join(output_folder, f\"image_{i}.jpg\")\n",
        "        rs[i].image.save(image_path, \"JPEG\")"
      ],
      "metadata": {
        "id": "unDrIuzKTrpJ"
      },
      "execution_count": null,
      "outputs": []
    },
    {
      "cell_type": "markdown",
      "source": [
        "After the search is done, the results will be saved in the `output` folder."
      ],
      "metadata": {
        "id": "yPCppZacZ1us"
      }
    },
    {
      "cell_type": "markdown",
      "source": [
        "## Text Search"
      ],
      "metadata": {
        "id": "b6vk1e1wdu0x"
      }
    },
    {
      "cell_type": "code",
      "source": [
        "run_vector_search(database=\"~/.lancedb\", table_name=\"myntra\", schema=Myntra, search_query=\"White Kurta\", limit=3, output_folder=\"output\")"
      ],
      "metadata": {
        "id": "zBSCG4otP-QZ"
      },
      "execution_count": null,
      "outputs": []
    },
    {
      "cell_type": "markdown",
      "source": [
        "## Image Search"
      ],
      "metadata": {
        "id": "hgVFAc_XdxHo"
      }
    },
    {
      "cell_type": "code",
      "source": [
        "run_vector_search(database=\"~/.lancedb\", table_name=\"myntra\", schema=Myntra, search_query=\"/content/input/images/0.jpg\", limit=3, output_folder=\"output\")"
      ],
      "metadata": {
        "id": "MfmUygJEdyZO"
      },
      "execution_count": null,
      "outputs": []
    }
  ]
}